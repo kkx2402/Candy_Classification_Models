{
 "cells": [
  {
   "cell_type": "markdown",
   "metadata": {},
   "source": [
    "# Goal - Can you predict if a candy is chocolate or not based on other variables? \n",
    "\n",
    "We want to use various classification models to predict if the candy is chocolate based or not using other multiple categorical predictors.\n",
    "1. Logistic Regression\n",
    "2. K-Nearest-Neighbor \n",
    "3. Decision Tree \n",
    "\n",
    "\n",
    "If the candy has chocolate, the candy 'chocolate' value equals 1. Otherwise, it equals 0."
   ]
  },
  {
   "cell_type": "markdown",
   "metadata": {},
   "source": [
    "# Dataset: \n",
    "\n",
    "This is a dataset of 85 different Halloween Candies and information about them obtained from kaggle (https://www.kaggle.com/datasets/fivethirtyeight/the-ultimate-halloween-candy-power-ranking).\n",
    "\n",
    "The data was collected by creating a website where participants were shown presenting two fun-sized candies and asked to click on the one they would prefer to receive. "
   ]
  },
  {
   "cell_type": "code",
   "execution_count": 1,
   "metadata": {},
   "outputs": [],
   "source": [
    "import pandas as pd\n",
    "import matplotlib.pyplot as plt\n",
    "import numpy as np\n",
    "from sklearn.linear_model import LogisticRegression\n",
    "from sklearn.neighbors import KNeighborsClassifier\n",
    "from sklearn.tree import DecisionTreeClassifier\n",
    "from sklearn import metrics, tree\n",
    "from sklearn.preprocessing import StandardScaler\n",
    "from sklearn.metrics import accuracy_score\n",
    "from sklearn.metrics import classification_report \n",
    "from sklearn.model_selection import train_test_split"
   ]
  },
  {
   "cell_type": "code",
   "execution_count": 2,
   "metadata": {},
   "outputs": [
    {
     "data": {
      "text/html": [
       "<div>\n",
       "<style scoped>\n",
       "    .dataframe tbody tr th:only-of-type {\n",
       "        vertical-align: middle;\n",
       "    }\n",
       "\n",
       "    .dataframe tbody tr th {\n",
       "        vertical-align: top;\n",
       "    }\n",
       "\n",
       "    .dataframe thead th {\n",
       "        text-align: right;\n",
       "    }\n",
       "</style>\n",
       "<table border=\"1\" class=\"dataframe\">\n",
       "  <thead>\n",
       "    <tr style=\"text-align: right;\">\n",
       "      <th></th>\n",
       "      <th>competitorname</th>\n",
       "      <th>chocolate</th>\n",
       "      <th>fruity</th>\n",
       "      <th>caramel</th>\n",
       "      <th>peanutyalmondy</th>\n",
       "      <th>nougat</th>\n",
       "      <th>crispedricewafer</th>\n",
       "      <th>hard</th>\n",
       "      <th>bar</th>\n",
       "      <th>pluribus</th>\n",
       "      <th>sugarpercent</th>\n",
       "    </tr>\n",
       "  </thead>\n",
       "  <tbody>\n",
       "    <tr>\n",
       "      <th>0</th>\n",
       "      <td>100 Grand</td>\n",
       "      <td>1</td>\n",
       "      <td>0</td>\n",
       "      <td>1</td>\n",
       "      <td>0</td>\n",
       "      <td>0</td>\n",
       "      <td>1</td>\n",
       "      <td>0</td>\n",
       "      <td>1</td>\n",
       "      <td>0</td>\n",
       "      <td>0.732</td>\n",
       "    </tr>\n",
       "    <tr>\n",
       "      <th>1</th>\n",
       "      <td>3 Musketeers</td>\n",
       "      <td>1</td>\n",
       "      <td>0</td>\n",
       "      <td>0</td>\n",
       "      <td>0</td>\n",
       "      <td>1</td>\n",
       "      <td>0</td>\n",
       "      <td>0</td>\n",
       "      <td>1</td>\n",
       "      <td>0</td>\n",
       "      <td>0.604</td>\n",
       "    </tr>\n",
       "    <tr>\n",
       "      <th>2</th>\n",
       "      <td>One dime</td>\n",
       "      <td>0</td>\n",
       "      <td>0</td>\n",
       "      <td>0</td>\n",
       "      <td>0</td>\n",
       "      <td>0</td>\n",
       "      <td>0</td>\n",
       "      <td>0</td>\n",
       "      <td>0</td>\n",
       "      <td>0</td>\n",
       "      <td>0.011</td>\n",
       "    </tr>\n",
       "    <tr>\n",
       "      <th>3</th>\n",
       "      <td>One quarter</td>\n",
       "      <td>0</td>\n",
       "      <td>0</td>\n",
       "      <td>0</td>\n",
       "      <td>0</td>\n",
       "      <td>0</td>\n",
       "      <td>0</td>\n",
       "      <td>0</td>\n",
       "      <td>0</td>\n",
       "      <td>0</td>\n",
       "      <td>0.011</td>\n",
       "    </tr>\n",
       "    <tr>\n",
       "      <th>4</th>\n",
       "      <td>Air Heads</td>\n",
       "      <td>0</td>\n",
       "      <td>1</td>\n",
       "      <td>0</td>\n",
       "      <td>0</td>\n",
       "      <td>0</td>\n",
       "      <td>0</td>\n",
       "      <td>0</td>\n",
       "      <td>0</td>\n",
       "      <td>0</td>\n",
       "      <td>0.906</td>\n",
       "    </tr>\n",
       "    <tr>\n",
       "      <th>...</th>\n",
       "      <td>...</td>\n",
       "      <td>...</td>\n",
       "      <td>...</td>\n",
       "      <td>...</td>\n",
       "      <td>...</td>\n",
       "      <td>...</td>\n",
       "      <td>...</td>\n",
       "      <td>...</td>\n",
       "      <td>...</td>\n",
       "      <td>...</td>\n",
       "      <td>...</td>\n",
       "    </tr>\n",
       "    <tr>\n",
       "      <th>80</th>\n",
       "      <td>Twizzlers</td>\n",
       "      <td>0</td>\n",
       "      <td>1</td>\n",
       "      <td>0</td>\n",
       "      <td>0</td>\n",
       "      <td>0</td>\n",
       "      <td>0</td>\n",
       "      <td>0</td>\n",
       "      <td>0</td>\n",
       "      <td>0</td>\n",
       "      <td>0.220</td>\n",
       "    </tr>\n",
       "    <tr>\n",
       "      <th>81</th>\n",
       "      <td>Warheads</td>\n",
       "      <td>0</td>\n",
       "      <td>1</td>\n",
       "      <td>0</td>\n",
       "      <td>0</td>\n",
       "      <td>0</td>\n",
       "      <td>0</td>\n",
       "      <td>1</td>\n",
       "      <td>0</td>\n",
       "      <td>0</td>\n",
       "      <td>0.093</td>\n",
       "    </tr>\n",
       "    <tr>\n",
       "      <th>82</th>\n",
       "      <td>WelchÕs Fruit Snacks</td>\n",
       "      <td>0</td>\n",
       "      <td>1</td>\n",
       "      <td>0</td>\n",
       "      <td>0</td>\n",
       "      <td>0</td>\n",
       "      <td>0</td>\n",
       "      <td>0</td>\n",
       "      <td>0</td>\n",
       "      <td>1</td>\n",
       "      <td>0.313</td>\n",
       "    </tr>\n",
       "    <tr>\n",
       "      <th>83</th>\n",
       "      <td>WertherÕs Original Caramel</td>\n",
       "      <td>0</td>\n",
       "      <td>0</td>\n",
       "      <td>1</td>\n",
       "      <td>0</td>\n",
       "      <td>0</td>\n",
       "      <td>0</td>\n",
       "      <td>1</td>\n",
       "      <td>0</td>\n",
       "      <td>0</td>\n",
       "      <td>0.186</td>\n",
       "    </tr>\n",
       "    <tr>\n",
       "      <th>84</th>\n",
       "      <td>Whoppers</td>\n",
       "      <td>1</td>\n",
       "      <td>0</td>\n",
       "      <td>0</td>\n",
       "      <td>0</td>\n",
       "      <td>0</td>\n",
       "      <td>1</td>\n",
       "      <td>0</td>\n",
       "      <td>0</td>\n",
       "      <td>1</td>\n",
       "      <td>0.872</td>\n",
       "    </tr>\n",
       "  </tbody>\n",
       "</table>\n",
       "<p>85 rows × 11 columns</p>\n",
       "</div>"
      ],
      "text/plain": [
       "                competitorname  chocolate  fruity  caramel  peanutyalmondy  \\\n",
       "0                    100 Grand          1       0        1               0   \n",
       "1                 3 Musketeers          1       0        0               0   \n",
       "2                     One dime          0       0        0               0   \n",
       "3                  One quarter          0       0        0               0   \n",
       "4                    Air Heads          0       1        0               0   \n",
       "..                         ...        ...     ...      ...             ...   \n",
       "80                   Twizzlers          0       1        0               0   \n",
       "81                    Warheads          0       1        0               0   \n",
       "82        WelchÕs Fruit Snacks          0       1        0               0   \n",
       "83  WertherÕs Original Caramel          0       0        1               0   \n",
       "84                    Whoppers          1       0        0               0   \n",
       "\n",
       "    nougat  crispedricewafer  hard  bar  pluribus  sugarpercent  \n",
       "0        0                 1     0    1         0         0.732  \n",
       "1        1                 0     0    1         0         0.604  \n",
       "2        0                 0     0    0         0         0.011  \n",
       "3        0                 0     0    0         0         0.011  \n",
       "4        0                 0     0    0         0         0.906  \n",
       "..     ...               ...   ...  ...       ...           ...  \n",
       "80       0                 0     0    0         0         0.220  \n",
       "81       0                 0     1    0         0         0.093  \n",
       "82       0                 0     0    0         1         0.313  \n",
       "83       0                 0     1    0         0         0.186  \n",
       "84       0                 1     0    0         1         0.872  \n",
       "\n",
       "[85 rows x 11 columns]"
      ]
     },
     "execution_count": 2,
     "metadata": {},
     "output_type": "execute_result"
    }
   ],
   "source": [
    "df_candy = pd.read_csv('candy-data.csv')\n",
    "df_candy = df_candy[['competitorname', 'chocolate', 'fruity', 'caramel','peanutyalmondy', 'nougat', 'crispedricewafer', 'hard', 'bar','pluribus', 'sugarpercent']]\n",
    "df_candy"
   ]
  },
  {
   "cell_type": "markdown",
   "metadata": {},
   "source": [
    "Data collected from asking what is the most popular best Halloween candy?\n",
    "\n",
    "**Chocolate:** Does it contain chocolate? (1 = Yes, 0 = No)\n",
    "\n",
    "**fruity:** Is it fruit flavored?(1 = Yes, 0 = No)\n",
    "\n",
    "**caramel:** Is there caramel in the candy? (1 = Yes, 0 = No)\n",
    "\n",
    "**eanutalmondy:** Does it contain peanuts, peanut butter or almonds? (1 = Yes, 0 = No)\n",
    "\n",
    "**nougat:** Does it contain nougat? (1 = Yes, 0 = No)\n",
    "\n",
    "**crispedricewafer:** Does it contain crisped rice, wafers, or a cookie component? (1 = Yes, 0 = No)\n",
    "\n",
    "**hard:** Is it a hard candy? (1 = Yes, 0 = No)\n",
    "\n",
    "**bar:** Is it a candy bar? (1 = Yes, 0 = No)\n",
    "\n",
    "**pluribus:** Is it one of many candies in a bag or box? (1 = Yes, 0 = No)\n",
    "\n",
    "**sugarpercent** Is the % amount of sugar in that particular candy"
   ]
  },
  {
   "cell_type": "markdown",
   "metadata": {},
   "source": [
    "# Data Cleaning"
   ]
  },
  {
   "cell_type": "markdown",
   "metadata": {},
   "source": [
    "### Check if there are null or missing values in the data set"
   ]
  },
  {
   "cell_type": "code",
   "execution_count": 3,
   "metadata": {},
   "outputs": [
    {
     "data": {
      "text/plain": [
       "competitorname      0\n",
       "chocolate           0\n",
       "fruity              0\n",
       "caramel             0\n",
       "peanutyalmondy      0\n",
       "nougat              0\n",
       "crispedricewafer    0\n",
       "hard                0\n",
       "bar                 0\n",
       "pluribus            0\n",
       "sugarpercent        0\n",
       "dtype: int64"
      ]
     },
     "execution_count": 3,
     "metadata": {},
     "output_type": "execute_result"
    }
   ],
   "source": [
    "#missing data\n",
    "df_candy.isnull().sum()"
   ]
  },
  {
   "cell_type": "markdown",
   "metadata": {},
   "source": [
    "### Check the number chocolate candies in the dataset and see if there is a fair distribution"
   ]
  },
  {
   "cell_type": "code",
   "execution_count": 4,
   "metadata": {},
   "outputs": [
    {
     "data": {
      "text/html": [
       "<div>\n",
       "<style scoped>\n",
       "    .dataframe tbody tr th:only-of-type {\n",
       "        vertical-align: middle;\n",
       "    }\n",
       "\n",
       "    .dataframe tbody tr th {\n",
       "        vertical-align: top;\n",
       "    }\n",
       "\n",
       "    .dataframe thead th {\n",
       "        text-align: right;\n",
       "    }\n",
       "</style>\n",
       "<table border=\"1\" class=\"dataframe\">\n",
       "  <thead>\n",
       "    <tr style=\"text-align: right;\">\n",
       "      <th></th>\n",
       "      <th>count</th>\n",
       "    </tr>\n",
       "    <tr>\n",
       "      <th>chocolate</th>\n",
       "      <th></th>\n",
       "    </tr>\n",
       "  </thead>\n",
       "  <tbody>\n",
       "    <tr>\n",
       "      <th>0</th>\n",
       "      <td>48</td>\n",
       "    </tr>\n",
       "    <tr>\n",
       "      <th>1</th>\n",
       "      <td>37</td>\n",
       "    </tr>\n",
       "  </tbody>\n",
       "</table>\n",
       "</div>"
      ],
      "text/plain": [
       "           count\n",
       "chocolate       \n",
       "0             48\n",
       "1             37"
      ]
     },
     "execution_count": 4,
     "metadata": {},
     "output_type": "execute_result"
    }
   ],
   "source": [
    "result = pd.DataFrame(df_candy['chocolate'].value_counts())\n",
    "result"
   ]
  },
  {
   "cell_type": "code",
   "execution_count": 5,
   "metadata": {},
   "outputs": [
    {
     "data": {
      "text/plain": [
       "<Axes: xlabel='chocolate'>"
      ]
     },
     "execution_count": 5,
     "metadata": {},
     "output_type": "execute_result"
    },
    {
     "data": {
      "image/png": "[encoded data removed]",
      "text/plain": [
       "<Figure size 640x480 with 1 Axes>"
      ]
     },
     "metadata": {},
     "output_type": "display_data"
    }
   ],
   "source": [
    "result.plot.bar()"
   ]
  },
  {
   "cell_type": "markdown",
   "metadata": {},
   "source": [
    "### Check the correlation of each predictor variable with the response variable (Chocolate)\n",
    "- A value greater than 0 means positive correlation\n",
    "- A value less than 0 means negative correlation"
   ]
  },
  {
   "cell_type": "code",
   "execution_count": 6,
   "metadata": {},
   "outputs": [
    {
     "data": {
      "text/plain": [
       "fruity             -0.741721\n",
       "caramel             0.249875\n",
       "peanutyalmondy      0.377824\n",
       "nougat              0.254892\n",
       "crispedricewafer    0.341210\n",
       "hard               -0.344177\n",
       "bar                 0.597421\n",
       "pluribus           -0.339675\n",
       "sugarpercent        0.104169\n",
       "dtype: float64"
      ]
     },
     "metadata": {},
     "output_type": "display_data"
    }
   ],
   "source": [
    "# Predictor variables \n",
    "X = df_candy[['fruity', 'caramel','peanutyalmondy', 'nougat', 'crispedricewafer', 'hard', 'bar','pluribus', 'sugarpercent']]\n",
    "\n",
    "# Response variable \n",
    "y =  df_candy['chocolate']\n",
    "\n",
    "correlation_matrix = X.corrwith(y)\n",
    "display(correlation_matrix)"
   ]
  },
  {
   "cell_type": "markdown",
   "metadata": {},
   "source": [
    "# Expectation - No, I am expecting that we will not be able to predict if a candy is chocolate based or not based on other variables. \n",
    "\n",
    "Firstly, by nature of the topic there exists only a certain number of unique candies that exist so the size of the sample is limited. As a result, any conclusion we draw from the dataset may be biased. \n",
    "\n",
    "Next, each candy company may approach making their candies in a multitude of ways where any correlation might just be coincidence. As a result, it may be very difficult to accurately predict if a candy is chocolate based on other variables and conclude a trend. "
   ]
  },
  {
   "cell_type": "markdown",
   "metadata": {},
   "source": [
    "# Different types of Models that will be used in this project\n",
    "* Logistic Regression\n",
    "* K Nearest Neighbors\n",
    "* Decision Tree "
   ]
  },
  {
   "cell_type": "markdown",
   "metadata": {},
   "source": [
    "# Find which models work the best\n",
    "\n",
    "#### Evaluation - The correctness of the model will be based on cacluating the Accuracy, Precision, Recall and F1 score of the model implementation."
   ]
  },
  {
   "cell_type": "markdown",
   "metadata": {},
   "source": [
    "### *Logistic Regression*"
   ]
  },
  {
   "cell_type": "code",
   "execution_count": 10,
   "metadata": {},
   "outputs": [
    {
     "name": "stdout",
     "output_type": "stream",
     "text": [
      "Accuracy score is  0.8636363636363636\n",
      "              precision    recall  f1-score   support\n",
      "\n",
      "           0       0.92      0.85      0.88        13\n",
      "           1       0.80      0.89      0.84         9\n",
      "\n",
      "    accuracy                           0.86        22\n",
      "   macro avg       0.86      0.87      0.86        22\n",
      "weighted avg       0.87      0.86      0.86        22\n",
      "\n"
     ]
    },
    {
     "data": {
      "text/html": [
       "<div>\n",
       "<style scoped>\n",
       "    .dataframe tbody tr th:only-of-type {\n",
       "        vertical-align: middle;\n",
       "    }\n",
       "\n",
       "    .dataframe tbody tr th {\n",
       "        vertical-align: top;\n",
       "    }\n",
       "\n",
       "    .dataframe thead th {\n",
       "        text-align: right;\n",
       "    }\n",
       "</style>\n",
       "<table border=\"1\" class=\"dataframe\">\n",
       "  <thead>\n",
       "    <tr style=\"text-align: right;\">\n",
       "      <th>col_0</th>\n",
       "      <th>0</th>\n",
       "      <th>1</th>\n",
       "    </tr>\n",
       "    <tr>\n",
       "      <th>chocolate</th>\n",
       "      <th></th>\n",
       "      <th></th>\n",
       "    </tr>\n",
       "  </thead>\n",
       "  <tbody>\n",
       "    <tr>\n",
       "      <th>0</th>\n",
       "      <td>11</td>\n",
       "      <td>2</td>\n",
       "    </tr>\n",
       "    <tr>\n",
       "      <th>1</th>\n",
       "      <td>1</td>\n",
       "      <td>8</td>\n",
       "    </tr>\n",
       "  </tbody>\n",
       "</table>\n",
       "</div>"
      ],
      "text/plain": [
       "col_0       0  1\n",
       "chocolate       \n",
       "0          11  2\n",
       "1           1  8"
      ]
     },
     "execution_count": 10,
     "metadata": {},
     "output_type": "execute_result"
    }
   ],
   "source": [
    "# split the dataset into training and test dataset. \n",
    "# the training dataset is used to train the model and test dataset is used to test the model's performance on new data\n",
    "X_train, X_test, y_train, y_test = train_test_split(X, y, test_size=0.25, random_state=123)\n",
    "\n",
    "# Standardize to variables \n",
    "scale = StandardScaler()\n",
    "X_train=scale.fit_transform(X_train)\n",
    "X_test=scale.transform(X_test)\n",
    "\n",
    "# perform logistic regression by creating LR object and fit\n",
    "logisticModel = LogisticRegression()\n",
    "logisticModel.fit(X_train, y_train)\n",
    "\n",
    "\n",
    "# make prediction using the model (test dataset)\n",
    "lr_y_pred = logisticModel.predict(X_test)\n",
    "\n",
    "# the accuracy score represent the proportion of correct predictions made by the model\n",
    "print(\"Accuracy score is \",accuracy_score(y_test,lr_y_pred))\n",
    "\n",
    "# classification report\n",
    "# The precision is ratio of the True Positives over all the Positives\n",
    "# The recall is the measure of our model correctly identifying True Positives\n",
    "\n",
    "print(classification_report(y_test, lr_y_pred))\n",
    "\n",
    "# the confusion matrix helps to see how the model performed. \n",
    "pd.crosstab(y_test, lr_y_pred)\n"
   ]
  },
  {
   "cell_type": "markdown",
   "metadata": {},
   "source": [
    "##### - *Precision* \n",
    "\n",
    "* Of all candies predicted to not have chocolate, 92% actually did not have chocolate according to the model. \n",
    "\n",
    "* Of all candies predicted to have chocolate, 80% actually did have chocolate according to the model. \n",
    "\n",
    "##### - *recall*\n",
    "* The model correctly identified 85% of candies that did not have chocolate. \n",
    "\n",
    "* The model correctly identified 89% of candies that did have chocolate in them. \n",
    "\n",
    "##### - *f1-score*\n",
    "\n",
    "* The value of .88 is pretty close to 1 which indicades a good balance between precision and recall, so it tells us that the model does a good job in predicting whether or not a candy will not have chocolate.\n",
    "\n",
    "* The value of .44 is pretty close to 1 which indicades a good balance between precision and recall, so it tells us that the model does a good job in predicting whether or not a candy will have chocolate ."
   ]
  },
  {
   "cell_type": "markdown",
   "metadata": {},
   "source": [
    "### *K Nearest Neighbors*"
   ]
  },
  {
   "cell_type": "code",
   "execution_count": 11,
   "metadata": {},
   "outputs": [
    {
     "name": "stdout",
     "output_type": "stream",
     "text": [
      "Accuracy score is  0.5909090909090909\n",
      "              precision    recall  f1-score   support\n",
      "\n",
      "           0       0.59      1.00      0.74        13\n",
      "           1       0.00      0.00      0.00         9\n",
      "\n",
      "    accuracy                           0.59        22\n",
      "   macro avg       0.30      0.50      0.37        22\n",
      "weighted avg       0.35      0.59      0.44        22\n",
      "\n"
     ]
    },
    {
     "name": "stderr",
     "output_type": "stream",
     "text": [
      "/Library/Frameworks/Python.framework/Versions/3.11/lib/python3.11/site-packages/sklearn/metrics/_classification.py:1344: UndefinedMetricWarning: Precision and F-score are ill-defined and being set to 0.0 in labels with no predicted samples. Use `zero_division` parameter to control this behavior.\n",
      "  _warn_prf(average, modifier, msg_start, len(result))\n",
      "/Library/Frameworks/Python.framework/Versions/3.11/lib/python3.11/site-packages/sklearn/metrics/_classification.py:1344: UndefinedMetricWarning: Precision and F-score are ill-defined and being set to 0.0 in labels with no predicted samples. Use `zero_division` parameter to control this behavior.\n",
      "  _warn_prf(average, modifier, msg_start, len(result))\n",
      "/Library/Frameworks/Python.framework/Versions/3.11/lib/python3.11/site-packages/sklearn/metrics/_classification.py:1344: UndefinedMetricWarning: Precision and F-score are ill-defined and being set to 0.0 in labels with no predicted samples. Use `zero_division` parameter to control this behavior.\n",
      "  _warn_prf(average, modifier, msg_start, len(result))\n"
     ]
    },
    {
     "data": {
      "text/html": [
       "<div>\n",
       "<style scoped>\n",
       "    .dataframe tbody tr th:only-of-type {\n",
       "        vertical-align: middle;\n",
       "    }\n",
       "\n",
       "    .dataframe tbody tr th {\n",
       "        vertical-align: top;\n",
       "    }\n",
       "\n",
       "    .dataframe thead th {\n",
       "        text-align: right;\n",
       "    }\n",
       "</style>\n",
       "<table border=\"1\" class=\"dataframe\">\n",
       "  <thead>\n",
       "    <tr style=\"text-align: right;\">\n",
       "      <th>col_0</th>\n",
       "      <th>0</th>\n",
       "    </tr>\n",
       "    <tr>\n",
       "      <th>chocolate</th>\n",
       "      <th></th>\n",
       "    </tr>\n",
       "  </thead>\n",
       "  <tbody>\n",
       "    <tr>\n",
       "      <th>0</th>\n",
       "      <td>13</td>\n",
       "    </tr>\n",
       "    <tr>\n",
       "      <th>1</th>\n",
       "      <td>9</td>\n",
       "    </tr>\n",
       "  </tbody>\n",
       "</table>\n",
       "</div>"
      ],
      "text/plain": [
       "col_0       0\n",
       "chocolate    \n",
       "0          13\n",
       "1           9"
      ]
     },
     "execution_count": 11,
     "metadata": {},
     "output_type": "execute_result"
    }
   ],
   "source": [
    "scaler = StandardScaler()\n",
    "\n",
    "X_train_scaled = scaler.fit_transform(X_train)\n",
    "X_test_scaled = scaler.transform(X_test)\n",
    "\n",
    "# use jaccard distance, metrics intended for boolean-valued vectors spaces. I.E. If a candy is hard candy but the other isn't \n",
    "# then they are dissimilar.\n",
    "knn = KNeighborsClassifier(n_neighbors=10, metric='jaccard')\n",
    "knn.fit(X_train_scaled, y_train)\n",
    "\n",
    "knn_y_pred = knn.predict(X_test_scaled)\n",
    "\n",
    "# the accuracy score represent the proportion of correct predictions made by the model\n",
    "print(\"Accuracy score is \",accuracy_score(y_test,knn_y_pred))\n",
    "\n",
    "# classification report\n",
    "print(classification_report(y_test, knn_y_pred))\n",
    "\n",
    "# the confusion matrix helps to see how the model performed. \n",
    "pd.crosstab(y_test, knn_y_pred)"
   ]
  },
  {
   "cell_type": "markdown",
   "metadata": {},
   "source": [
    "##### - *Precision* \n",
    "\n",
    "* Of all candies predicted to not have chocolate, 59% actually did not have chocolate according to the model. \n",
    "\n",
    "* Of all candies predicted to have chocolate, 0% actually did have chocolate according to the model. \n",
    "\n",
    "##### - *recall*\n",
    "* The model correctly identified 100% of candies that did not have chocolate. \n",
    "\n",
    "* The model correctly identified 0% of candies that did have chocolate in them. \n",
    "\n",
    "##### - *f1-score*\n",
    "\n",
    "* The value of .74 is pretty close to 1 which indicates a good balance between precision and recall, so it tells us that the model does a good job in predicting whether or not a candy will not have chocolate.\n",
    "\n",
    "* The value of 0 is very bad so it tells us that the model could not predict whether or not a candy will have chocolate."
   ]
  },
  {
   "cell_type": "markdown",
   "metadata": {},
   "source": [
    "### *Decision Tree*"
   ]
  },
  {
   "cell_type": "code",
   "execution_count": 14,
   "metadata": {},
   "outputs": [],
   "source": [
    "# Create Decision Tree classifer object\n",
    "clf = DecisionTreeClassifier(max_depth=4)\n",
    "\n",
    "# Train Decision Tree Classifer\n",
    "clf = clf.fit(X_train,y_train)\n",
    "\n",
    "#Predict the response for test dataset\n",
    "y_pred_dt = clf.predict(X_test)"
   ]
  },
  {
   "cell_type": "code",
   "execution_count": 17,
   "metadata": {},
   "outputs": [
    {
     "name": "stdout",
     "output_type": "stream",
     "text": [
      "              precision    recall  f1-score   support\n",
      "\n",
      "           0       1.00      0.69      0.82        13\n",
      "           1       0.69      1.00      0.82         9\n",
      "\n",
      "    accuracy                           0.82        22\n",
      "   macro avg       0.85      0.85      0.82        22\n",
      "weighted avg       0.87      0.82      0.82        22\n",
      "\n",
      "Accuracy Score is : 0.8181818181818182\n"
     ]
    }
   ],
   "source": [
    "print(classification_report(y_test, y_pred_dt))\n",
    "print(\"Accuracy Score is :\",metrics.accuracy_score(y_test, y_pred_dt))"
   ]
  },
  {
   "cell_type": "markdown",
   "metadata": {},
   "source": [
    "##### - *Precision* \n",
    "\n",
    "* Of all candies predicted to not have chocolate, 100% actually did not have chocolate according to the model. This data seems suspicious since any data with 100% seems unlikely. \n",
    "\n",
    "* Of all candies predicted to have chocolate, 69% actually did have chocolate according to the model. \n",
    "\n",
    "##### - *recall*\n",
    "* The model correctly identified 60% of candies that did not have chocolate. \n",
    "\n",
    "* The model correctly identified 100% of candies that did have chocolate in them. This data seems suspicious since any data with 100% seems unlikely. \n",
    "\n",
    "##### - *f1-score*\n",
    "\n",
    "* The value of .82 is pretty close to 1 which indicades a good balance between precision and recall, so it tells us that the model does a good job in predicting whether or not a candy will not have chocolate.\n",
    "\n",
    "* The value of .82 is also pretty close to 1 which indicades a good balance between precision and recall, so it tells us that the model does a good job in predicting whether or not a candy will have chocolate."
   ]
  },
  {
   "cell_type": "markdown",
   "metadata": {},
   "source": [
    "# Conclusion: It seems that Logistic Regression is the best model for this dataset."
   ]
  },
  {
   "cell_type": "markdown",
   "metadata": {},
   "source": [
    "# Improving Metrics: feature selection, data manipulation, parameter tuning\n",
    "\n",
    "- X1 will be set of predictors that only includes ingredients that goes inside the candy. \n",
    "- X2 will be set of predictors excluding ingredients. \n",
    "- X3 will be set of predictors that have a positive correlation with the response (Chocolate) as shown in the beginning of the section."
   ]
  },
  {
   "cell_type": "code",
   "execution_count": 18,
   "metadata": {},
   "outputs": [],
   "source": [
    "X1 = df_candy[['fruity', 'caramel', 'nougat', 'crispedricewafer', 'peanutyalmondy']]\n",
    "X2 = df_candy[['hard', 'bar','pluribus', 'sugarpercent']]\n",
    "X3 = df_candy[['caramel','peanutyalmondy', 'nougat', 'crispedricewafer', 'bar', 'sugarpercent']]\n",
    "y =  df_candy['chocolate']\n",
    "\n",
    "# 80% model train and 20% model test \n",
    "X1_train, X1_test, y1_train, y1_test = train_test_split(X1, y, test_size=0.25, random_state=123)\n",
    "X2_train, X2_test, y2_train, y2_test = train_test_split(X2, y, test_size=0.25, random_state=123)\n",
    "X3_train, X3_test, y3_train, y3_test = train_test_split(X3, y, test_size=0.25, random_state=123)"
   ]
  },
  {
   "cell_type": "code",
   "execution_count": 20,
   "metadata": {},
   "outputs": [
    {
     "name": "stdout",
     "output_type": "stream",
     "text": [
      "Accuracy score is  0.8636363636363636\n",
      "              precision    recall  f1-score   support\n",
      "\n",
      "           0       1.00      0.77      0.87        13\n",
      "           1       0.75      1.00      0.86         9\n",
      "\n",
      "    accuracy                           0.86        22\n",
      "   macro avg       0.88      0.88      0.86        22\n",
      "weighted avg       0.90      0.86      0.86        22\n",
      "\n"
     ]
    },
    {
     "data": {
      "text/html": [
       "<div>\n",
       "<style scoped>\n",
       "    .dataframe tbody tr th:only-of-type {\n",
       "        vertical-align: middle;\n",
       "    }\n",
       "\n",
       "    .dataframe tbody tr th {\n",
       "        vertical-align: top;\n",
       "    }\n",
       "\n",
       "    .dataframe thead th {\n",
       "        text-align: right;\n",
       "    }\n",
       "</style>\n",
       "<table border=\"1\" class=\"dataframe\">\n",
       "  <thead>\n",
       "    <tr style=\"text-align: right;\">\n",
       "      <th>col_0</th>\n",
       "      <th>0</th>\n",
       "      <th>1</th>\n",
       "    </tr>\n",
       "    <tr>\n",
       "      <th>chocolate</th>\n",
       "      <th></th>\n",
       "      <th></th>\n",
       "    </tr>\n",
       "  </thead>\n",
       "  <tbody>\n",
       "    <tr>\n",
       "      <th>0</th>\n",
       "      <td>10</td>\n",
       "      <td>3</td>\n",
       "    </tr>\n",
       "    <tr>\n",
       "      <th>1</th>\n",
       "      <td>0</td>\n",
       "      <td>9</td>\n",
       "    </tr>\n",
       "  </tbody>\n",
       "</table>\n",
       "</div>"
      ],
      "text/plain": [
       "col_0       0  1\n",
       "chocolate       \n",
       "0          10  3\n",
       "1           0  9"
      ]
     },
     "execution_count": 20,
     "metadata": {},
     "output_type": "execute_result"
    }
   ],
   "source": [
    "# Standardize to variables \n",
    "scale = StandardScaler()\n",
    "X1_train=scale.fit_transform(X1_train)\n",
    "X1_test=scale.transform(X1_test)\n",
    "\n",
    "# perform logistic regression by creating LR object and fit\n",
    "logisticModel = LogisticRegression()\n",
    "logisticModel.fit(X1_train, y1_train)\n",
    "\n",
    "\n",
    "# make prediction using the model (test dataset)\n",
    "lr_y_pred = logisticModel.predict(X1_test)\n",
    "\n",
    "# the accuracy score represent the proportion of correct predictions made by the model\n",
    "print(\"Accuracy score is \",accuracy_score(y1_test,lr_y_pred))\n",
    "\n",
    "# classification report\n",
    "# The precision is ratio of the True Positives over all the Positives\n",
    "# The recall is the measure of our model correctly identifying True Positives\n",
    "\n",
    "print(classification_report(y1_test, lr_y_pred))\n",
    "\n",
    "# the confusion matrix helps to see how the model performed. \n",
    "pd.crosstab(y1_test, lr_y_pred)"
   ]
  },
  {
   "cell_type": "code",
   "execution_count": 21,
   "metadata": {},
   "outputs": [
    {
     "name": "stdout",
     "output_type": "stream",
     "text": [
      "Accuracy score is  0.6363636363636364\n",
      "              precision    recall  f1-score   support\n",
      "\n",
      "           0       0.73      0.62      0.67        13\n",
      "           1       0.55      0.67      0.60         9\n",
      "\n",
      "    accuracy                           0.64        22\n",
      "   macro avg       0.64      0.64      0.63        22\n",
      "weighted avg       0.65      0.64      0.64        22\n",
      "\n"
     ]
    },
    {
     "data": {
      "text/html": [
       "<div>\n",
       "<style scoped>\n",
       "    .dataframe tbody tr th:only-of-type {\n",
       "        vertical-align: middle;\n",
       "    }\n",
       "\n",
       "    .dataframe tbody tr th {\n",
       "        vertical-align: top;\n",
       "    }\n",
       "\n",
       "    .dataframe thead th {\n",
       "        text-align: right;\n",
       "    }\n",
       "</style>\n",
       "<table border=\"1\" class=\"dataframe\">\n",
       "  <thead>\n",
       "    <tr style=\"text-align: right;\">\n",
       "      <th>col_0</th>\n",
       "      <th>0</th>\n",
       "      <th>1</th>\n",
       "    </tr>\n",
       "    <tr>\n",
       "      <th>chocolate</th>\n",
       "      <th></th>\n",
       "      <th></th>\n",
       "    </tr>\n",
       "  </thead>\n",
       "  <tbody>\n",
       "    <tr>\n",
       "      <th>0</th>\n",
       "      <td>8</td>\n",
       "      <td>5</td>\n",
       "    </tr>\n",
       "    <tr>\n",
       "      <th>1</th>\n",
       "      <td>3</td>\n",
       "      <td>6</td>\n",
       "    </tr>\n",
       "  </tbody>\n",
       "</table>\n",
       "</div>"
      ],
      "text/plain": [
       "col_0      0  1\n",
       "chocolate      \n",
       "0          8  5\n",
       "1          3  6"
      ]
     },
     "execution_count": 21,
     "metadata": {},
     "output_type": "execute_result"
    }
   ],
   "source": [
    "# Standardize to variables \n",
    "scale = StandardScaler()\n",
    "X2_train=scale.fit_transform(X2_train)\n",
    "X2_test=scale.transform(X2_test)\n",
    "\n",
    "# perform logistic regression by creating LR object and fit\n",
    "logisticModel = LogisticRegression()\n",
    "logisticModel.fit(X2_train, y2_train)\n",
    "\n",
    "\n",
    "# make prediction using the model (test dataset)\n",
    "lr_y_pred2 = logisticModel.predict(X2_test)\n",
    "\n",
    "# the accuracy score represent the proportion of correct predictions made by the model\n",
    "print(\"Accuracy score is \",accuracy_score(y2_test,lr_y_pred2))\n",
    "\n",
    "# classification report\n",
    "# The precision is ratio of the True Positives over all the Positives\n",
    "# The recall is the measure of our model correctly identifying True Positives\n",
    "\n",
    "print(classification_report(y2_test, lr_y_pred2))\n",
    "\n",
    "# the confusion matrix helps to see how the model performed. \n",
    "pd.crosstab(y2_test, lr_y_pred2)"
   ]
  },
  {
   "cell_type": "code",
   "execution_count": 22,
   "metadata": {},
   "outputs": [
    {
     "name": "stdout",
     "output_type": "stream",
     "text": [
      "Accuracy score is  0.8636363636363636\n",
      "              precision    recall  f1-score   support\n",
      "\n",
      "           0       0.81      1.00      0.90        13\n",
      "           1       1.00      0.67      0.80         9\n",
      "\n",
      "    accuracy                           0.86        22\n",
      "   macro avg       0.91      0.83      0.85        22\n",
      "weighted avg       0.89      0.86      0.86        22\n",
      "\n"
     ]
    },
    {
     "data": {
      "text/html": [
       "<div>\n",
       "<style scoped>\n",
       "    .dataframe tbody tr th:only-of-type {\n",
       "        vertical-align: middle;\n",
       "    }\n",
       "\n",
       "    .dataframe tbody tr th {\n",
       "        vertical-align: top;\n",
       "    }\n",
       "\n",
       "    .dataframe thead th {\n",
       "        text-align: right;\n",
       "    }\n",
       "</style>\n",
       "<table border=\"1\" class=\"dataframe\">\n",
       "  <thead>\n",
       "    <tr style=\"text-align: right;\">\n",
       "      <th>col_0</th>\n",
       "      <th>0</th>\n",
       "      <th>1</th>\n",
       "    </tr>\n",
       "    <tr>\n",
       "      <th>chocolate</th>\n",
       "      <th></th>\n",
       "      <th></th>\n",
       "    </tr>\n",
       "  </thead>\n",
       "  <tbody>\n",
       "    <tr>\n",
       "      <th>0</th>\n",
       "      <td>13</td>\n",
       "      <td>0</td>\n",
       "    </tr>\n",
       "    <tr>\n",
       "      <th>1</th>\n",
       "      <td>3</td>\n",
       "      <td>6</td>\n",
       "    </tr>\n",
       "  </tbody>\n",
       "</table>\n",
       "</div>"
      ],
      "text/plain": [
       "col_0       0  1\n",
       "chocolate       \n",
       "0          13  0\n",
       "1           3  6"
      ]
     },
     "execution_count": 22,
     "metadata": {},
     "output_type": "execute_result"
    }
   ],
   "source": [
    "# Standardize to variables \n",
    "scale = StandardScaler()\n",
    "X3_train=scale.fit_transform(X3_train)\n",
    "X3_test=scale.transform(X3_test)\n",
    "\n",
    "# perform logistic regression by creating LR object and fit\n",
    "logisticModel = LogisticRegression()\n",
    "logisticModel.fit(X3_train, y3_train)\n",
    "\n",
    "\n",
    "# make prediction using the model (test dataset)\n",
    "lr_y_pred3 = logisticModel.predict(X3_test)\n",
    "\n",
    "# the accuracy score represent the proportion of correct predictions made by the model\n",
    "print(\"Accuracy score is \",accuracy_score(y3_test,lr_y_pred3))\n",
    "\n",
    "# classification report\n",
    "# The precision is ratio of the True Positives over all the Positives\n",
    "# The recall is the measure of our model correctly identifying True Positives\n",
    "\n",
    "print(classification_report(y3_test, lr_y_pred3))\n",
    "\n",
    "# the confusion matrix helps to see how the model performed. \n",
    "pd.crosstab(y3_test, lr_y_pred3)"
   ]
  },
  {
   "cell_type": "markdown",
   "metadata": {},
   "source": [
    "### Result: using various sets of predictors we observed certain trade offs depending on the one we used. \n",
    "\n",
    "- First, using the set of non ingredient variables as predictors gave the worst result (X2). While (X1) and (X3) gave familiar accuracy scores. \n",
    "\n",
    "- But the big difference was that by using the (X3) set of predictors with positive correlation to the response variable (Chocolate), it shows us that the model did the best job in predicting if a candy would not have chocolate in them or not. \n",
    "\n",
    "- If you used (X1) the set of predictors with ingredients only characteristics of a candy, then the model did a worse job at predicting if a candy would not have chocolate in them or not, but the model did bettere in predicting if a candy will have chocolate. "
   ]
  },
  {
   "cell_type": "markdown",
   "metadata": {},
   "source": [
    "### References: \n",
    "* https://www.kaggle.com/datasets/fivethirtyeight/the-ultimate-halloween-candy-power-ranking"
   ]
  }
 ],
 "metadata": {
  "kernelspec": {
   "display_name": "Python 3",
   "language": "python",
   "name": "python3"
  },
  "language_info": {
   "codemirror_mode": {
    "name": "ipython",
    "version": 3
   },
   "file_extension": ".py",
   "mimetype": "text/x-python",
   "name": "python",
   "nbconvert_exporter": "python",
   "pygments_lexer": "ipython3",
   "version": "3.11.3"
  }
 },
 "nbformat": 4,
 "nbformat_minor": 2
}
